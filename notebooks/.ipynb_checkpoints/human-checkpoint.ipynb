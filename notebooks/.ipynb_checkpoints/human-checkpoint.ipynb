{
 "cells": [
  {
   "cell_type": "code",
   "execution_count": 22,
   "id": "7c5332d6",
   "metadata": {},
   "outputs": [],
   "source": [
    "import pandas as pd\n",
    "\n",
    "import json"
   ]
  },
  {
   "cell_type": "code",
   "execution_count": 16,
   "id": "0a73335a",
   "metadata": {},
   "outputs": [],
   "source": [
    "df = pd.read_csv('../9606.csv')"
   ]
  },
  {
   "cell_type": "code",
   "execution_count": 21,
   "id": "4b95f503",
   "metadata": {},
   "outputs": [
    {
     "data": {
      "text/plain": [
       "NaN         61061\n",
       "HLA-B       10360\n",
       "HLA-A        8869\n",
       "HLA-C        8645\n",
       "HLA-DRB1     4888\n",
       "            ...  \n",
       "CXorf49B        1\n",
       "TMCO5B          1\n",
       "MINDY4B         1\n",
       "AGRP            1\n",
       "SYT15B          1\n",
       "Name: gene, Length: 27515, dtype: int64"
      ]
     },
     "execution_count": 21,
     "metadata": {},
     "output_type": "execute_result"
    }
   ],
   "source": [
    "for i, gene in df.groupby('gene')"
   ]
  },
  {
   "cell_type": "code",
   "execution_count": null,
   "id": "13552012",
   "metadata": {},
   "outputs": [],
   "source": []
  },
  {
   "cell_type": "code",
   "execution_count": null,
   "id": "e90d9378",
   "metadata": {},
   "outputs": [],
   "source": []
  }
 ],
 "metadata": {
  "kernelspec": {
   "display_name": "Python 3 (ipykernel)",
   "language": "python",
   "name": "python3"
  },
  "language_info": {
   "codemirror_mode": {
    "name": "ipython",
    "version": 3
   },
   "file_extension": ".py",
   "mimetype": "text/x-python",
   "name": "python",
   "nbconvert_exporter": "python",
   "pygments_lexer": "ipython3",
   "version": "3.10.4"
  }
 },
 "nbformat": 4,
 "nbformat_minor": 5
}
